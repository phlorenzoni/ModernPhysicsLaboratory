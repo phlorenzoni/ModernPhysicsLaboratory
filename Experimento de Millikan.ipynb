{
 "cells": [
  {
   "cell_type": "markdown",
   "id": "1fdc29cd",
   "metadata": {},
   "source": [
    "### Experimento de Millikan: Carga Elementar do Elétron\n",
    "#### Consta nesse arquivo os códigos utilizados para os cálculos dos valores e propagações de incerteza.\n",
    "##### Paulo Henrique Lorenzoni Filho"
   ]
  },
  {
   "cell_type": "code",
   "execution_count": 1,
   "id": "b0df2357",
   "metadata": {},
   "outputs": [],
   "source": [
    "from uncertainties import ufloat, unumpy\n",
    "import numpy as np\n",
    "import pandas as pd\n",
    "import matplotlib.pyplot as plt\n",
    "from scipy.stats import norm\n"
   ]
  },
  {
   "cell_type": "markdown",
   "id": "d633df05",
   "metadata": {},
   "source": [
    "#### Criando um arranjo (array) com os valores de tempo e distância e sua incerteza associada"
   ]
  },
  {
   "cell_type": "code",
   "execution_count": 2,
   "id": "8f325104",
   "metadata": {},
   "outputs": [],
   "source": [
    "# Os arrays, nesse caso, são matrizes 1x20. Por exemplo: (x1 +/- i1, x2 +/- i2, ...)\n",
    "x= np.array([       ufloat(0.00089,0.00001),ufloat(0.00089,0.00001),ufloat(0.00089,0.00001),ufloat(0.00089,0.00001),ufloat(0.00089,0.00001),\n",
    "                    ufloat(0.00178,0.00002),ufloat(0.00178,0.00002),ufloat(0.00178,0.00002),ufloat(0.00178,0.00002),ufloat(0.00178,0.00002),\n",
    "                    ufloat(0.00267,0.00003),ufloat(0.00267,0.00003),ufloat(0.00267,0.00003),ufloat(0.00267,0.00003),ufloat(0.00267,0.00003),\n",
    "                    ufloat(0.00356,0.00004),ufloat(0.00356,0.00004),ufloat(0.00356,0.00004),ufloat(0.00356,0.00004),ufloat(0.00356,0.00004)]) # Distância de subida\n",
    "\n",
    "t_subida=np.array([ufloat(12.079,0.001),ufloat(12.479,0.001),ufloat(12.879,0.001),ufloat(2.669,0.001),ufloat(12.965,0.001),\n",
    "                   ufloat(21.566,0.002),ufloat(5.978,0.002),ufloat(9.675,0.002),ufloat(4.871,0.002),ufloat(8.574,0.002),\n",
    "                   ufloat(5.303,0.003),ufloat(3.868,0.003),ufloat(7.072,0.003),ufloat(5.104,0.003),ufloat(4.436,0.003),\n",
    "                   ufloat(8.763,0.004),ufloat(5.464,0.004),ufloat(10.408,0.004),ufloat(8.207,0.004),ufloat(14.879,0.004)])\n",
    "\n",
    "t_descida=np.array([ufloat(4.705,0.001),ufloat(5.072,0.001),ufloat(4.838,0.001),ufloat(2.169,0.001),ufloat(5.832,0.001),\n",
    "                    ufloat(8.241,0.002),ufloat(4.501,0.002),ufloat(6.976,0.002),ufloat(4.002,0.002),ufloat(6.409,0.002),\n",
    "                    ufloat(4.936,0.003),ufloat(3.502,0.003),ufloat(6.119,0.003),ufloat(4.602,0.003),ufloat(3.869,0.003),\n",
    "                    ufloat(7.197,0.004),ufloat(4.998,0.004),ufloat(8.407,0.004),ufloat(6.973,0.004),ufloat(9.975,0.004)])\n",
    "\n",
    "v_subida=x/t_subida\n",
    "v_descida=x/t_descida"
   ]
  },
  {
   "cell_type": "markdown",
   "id": "3ceea99e",
   "metadata": {},
   "source": [
    "#### A equação do raio (6) pode ser reescrita como:      \n",
    "$$r=c\\sqrt{ |v_s - v_d|}$$\n",
    "Onde $c=\\frac{3}{2}\\sqrt{\\frac{\\eta}{g(\\rho_{óleo}-\\rho_{ar})}}=constante$       \n",
    "Calculando c a partir dos valores dados, resulta em:"
   ]
  },
  {
   "cell_type": "code",
   "execution_count": 3,
   "id": "0627ebe4",
   "metadata": {},
   "outputs": [],
   "source": [
    "c=(3/2)*(0.0000182/9.79*(1030-1.293))**(1/2)#constante do raio\n"
   ]
  },
  {
   "cell_type": "code",
   "execution_count": 4,
   "id": "206a1099",
   "metadata": {},
   "outputs": [],
   "source": [
    "r=c*(abs(v_subida-v_descida))**(1/2) # Raio da gota"
   ]
  },
  {
   "cell_type": "code",
   "execution_count": 5,
   "id": "f77d417b",
   "metadata": {},
   "outputs": [
    {
     "data": {
      "text/plain": [
       "array([7.04908456, 6.69449953, 7.03003497, 5.75118579, 6.01059619,\n",
       "       7.57792508, 6.4840931 , 5.53431883, 5.84324017, 5.4933027 ,\n",
       "       4.01348578, 5.57155375, 5.03004862, 4.95518991, 6.16074852,\n",
       "       6.16737243, 5.11264856, 5.91869325, 5.74727508, 7.11440133])"
      ]
     },
     "execution_count": 5,
     "metadata": {},
     "output_type": "execute_result"
    }
   ],
   "source": [
    "raio=unumpy.nominal_values(r)*10**4\n",
    "inr=unumpy.std_devs(r)\n",
    "raio"
   ]
  },
  {
   "cell_type": "markdown",
   "id": "45539654",
   "metadata": {},
   "source": [
    "#### Para o calculo da carga (equação 7), temos:\n"
   ]
  },
  {
   "cell_type": "code",
   "execution_count": 6,
   "id": "5958a3bc",
   "metadata": {},
   "outputs": [],
   "source": [
    "n=0.0000182 #Coeficiente de viscosidade do ar\n",
    "g=9.79\n",
    "do=1030 #densidade óleo\n",
    "da=1.293 #densidade ar\n",
    "d=ufloat(0.00250,0.00001) #distância entre as placas do capacitor c/ incerteza\n",
    "U=np.array([ufloat(300,5),ufloat(300,5),ufloat(300,5),ufloat(300,5),ufloat(300,5),\n",
    "           ufloat(400,5),ufloat(400,5),ufloat(400,5),ufloat(400,5),ufloat(400,5),\n",
    "           ufloat(500,5),ufloat(500,5),ufloat(500,5),ufloat(500,5),ufloat(500,5),\n",
    "           ufloat(600,5),ufloat(600,5),ufloat(600,5),ufloat(600,5),ufloat(600,5)])\n"
   ]
  },
  {
   "cell_type": "code",
   "execution_count": 7,
   "id": "f46a6bc1",
   "metadata": {},
   "outputs": [],
   "source": [
    "Q=(9*np.pi*d/2)*(((n**3)/(g*(do-da)))**(1/2))*(((v_subida+v_descida)/U)*((abs(v_subida-v_descida))**(1/2)))"
   ]
  },
  {
   "cell_type": "code",
   "execution_count": 8,
   "id": "161156f9",
   "metadata": {},
   "outputs": [],
   "source": [
    "\n",
    "#print(format(unumpy.nominal_values(q)))\n",
    "inQ=np.array(unumpy.std_devs(Q))\n",
    "cargas=np.array(unumpy.nominal_values(Q))\n"
   ]
  },
  {
   "cell_type": "code",
   "execution_count": 9,
   "id": "cdd19545",
   "metadata": {},
   "outputs": [
    {
     "data": {
      "text/html": [
       "<div>\n",
       "<style scoped>\n",
       "    .dataframe tbody tr th:only-of-type {\n",
       "        vertical-align: middle;\n",
       "    }\n",
       "\n",
       "    .dataframe tbody tr th {\n",
       "        vertical-align: top;\n",
       "    }\n",
       "\n",
       "    .dataframe thead th {\n",
       "        text-align: right;\n",
       "    }\n",
       "</style>\n",
       "<table border=\"1\" class=\"dataframe\">\n",
       "  <thead>\n",
       "    <tr style=\"text-align: right;\">\n",
       "      <th></th>\n",
       "      <th>Qe-19C</th>\n",
       "      <th>$\\delta$q</th>\n",
       "      <th>Raio e-4</th>\n",
       "      <th>$\\delta$r</th>\n",
       "    </tr>\n",
       "  </thead>\n",
       "  <tbody>\n",
       "    <tr>\n",
       "      <th>1</th>\n",
       "      <td>2.57</td>\n",
       "      <td>0.06</td>\n",
       "      <td>7.05</td>\n",
       "      <td>0.04</td>\n",
       "    </tr>\n",
       "    <tr>\n",
       "      <th>2</th>\n",
       "      <td>2.30</td>\n",
       "      <td>0.06</td>\n",
       "      <td>6.69</td>\n",
       "      <td>0.04</td>\n",
       "    </tr>\n",
       "    <tr>\n",
       "      <th>3</th>\n",
       "      <td>2.47</td>\n",
       "      <td>0.06</td>\n",
       "      <td>7.03</td>\n",
       "      <td>0.04</td>\n",
       "    </tr>\n",
       "    <tr>\n",
       "      <th>4</th>\n",
       "      <td>5.94</td>\n",
       "      <td>0.14</td>\n",
       "      <td>5.75</td>\n",
       "      <td>0.03</td>\n",
       "    </tr>\n",
       "    <tr>\n",
       "      <th>5</th>\n",
       "      <td>1.85</td>\n",
       "      <td>0.04</td>\n",
       "      <td>6.01</td>\n",
       "      <td>0.03</td>\n",
       "    </tr>\n",
       "    <tr>\n",
       "      <th>6</th>\n",
       "      <td>2.36</td>\n",
       "      <td>0.05</td>\n",
       "      <td>7.58</td>\n",
       "      <td>0.04</td>\n",
       "    </tr>\n",
       "    <tr>\n",
       "      <th>7</th>\n",
       "      <td>4.68</td>\n",
       "      <td>0.1</td>\n",
       "      <td>6.48</td>\n",
       "      <td>0.04</td>\n",
       "    </tr>\n",
       "    <tr>\n",
       "      <th>8</th>\n",
       "      <td>2.53</td>\n",
       "      <td>0.05</td>\n",
       "      <td>5.53</td>\n",
       "      <td>0.03</td>\n",
       "    </tr>\n",
       "    <tr>\n",
       "      <th>9</th>\n",
       "      <td>4.93</td>\n",
       "      <td>0.11</td>\n",
       "      <td>5.84</td>\n",
       "      <td>0.03</td>\n",
       "    </tr>\n",
       "    <tr>\n",
       "      <th>10</th>\n",
       "      <td>2.78</td>\n",
       "      <td>0.06</td>\n",
       "      <td>5.49</td>\n",
       "      <td>0.03</td>\n",
       "    </tr>\n",
       "    <tr>\n",
       "      <th>11</th>\n",
       "      <td>3.49</td>\n",
       "      <td>0.07</td>\n",
       "      <td>4.01</td>\n",
       "      <td>0.03</td>\n",
       "    </tr>\n",
       "    <tr>\n",
       "      <th>12</th>\n",
       "      <td>6.75</td>\n",
       "      <td>0.14</td>\n",
       "      <td>5.57</td>\n",
       "      <td>0.05</td>\n",
       "    </tr>\n",
       "    <tr>\n",
       "      <th>13</th>\n",
       "      <td>3.41</td>\n",
       "      <td>0.07</td>\n",
       "      <td>5.03</td>\n",
       "      <td>0.03</td>\n",
       "    </tr>\n",
       "    <tr>\n",
       "      <th>14</th>\n",
       "      <td>4.56</td>\n",
       "      <td>0.09</td>\n",
       "      <td>4.96</td>\n",
       "      <td>0.03</td>\n",
       "    </tr>\n",
       "    <tr>\n",
       "      <th>15</th>\n",
       "      <td>6.64</td>\n",
       "      <td>0.14</td>\n",
       "      <td>6.16</td>\n",
       "      <td>0.04</td>\n",
       "    </tr>\n",
       "    <tr>\n",
       "      <th>16</th>\n",
       "      <td>3.86</td>\n",
       "      <td>0.07</td>\n",
       "      <td>6.17</td>\n",
       "      <td>0.04</td>\n",
       "    </tr>\n",
       "    <tr>\n",
       "      <th>17</th>\n",
       "      <td>4.84</td>\n",
       "      <td>0.1</td>\n",
       "      <td>5.11</td>\n",
       "      <td>0.04</td>\n",
       "    </tr>\n",
       "    <tr>\n",
       "      <th>18</th>\n",
       "      <td>3.15</td>\n",
       "      <td>0.06</td>\n",
       "      <td>5.92</td>\n",
       "      <td>0.03</td>\n",
       "    </tr>\n",
       "    <tr>\n",
       "      <th>19</th>\n",
       "      <td>3.77</td>\n",
       "      <td>0.07</td>\n",
       "      <td>5.75</td>\n",
       "      <td>0.04</td>\n",
       "    </tr>\n",
       "    <tr>\n",
       "      <th>20</th>\n",
       "      <td>2.95</td>\n",
       "      <td>0.06</td>\n",
       "      <td>7.11</td>\n",
       "      <td>0.04</td>\n",
       "    </tr>\n",
       "  </tbody>\n",
       "</table>\n",
       "</div>"
      ],
      "text/plain": [
       "    Qe-19C $\\delta$q  Raio e-4  $\\delta$r\n",
       "1     2.57      0.06      7.05       0.04\n",
       "2     2.30      0.06      6.69       0.04\n",
       "3     2.47      0.06      7.03       0.04\n",
       "4     5.94      0.14      5.75       0.03\n",
       "5     1.85      0.04      6.01       0.03\n",
       "6     2.36      0.05      7.58       0.04\n",
       "7     4.68       0.1      6.48       0.04\n",
       "8     2.53      0.05      5.53       0.03\n",
       "9     4.93      0.11      5.84       0.03\n",
       "10    2.78      0.06      5.49       0.03\n",
       "11    3.49      0.07      4.01       0.03\n",
       "12    6.75      0.14      5.57       0.05\n",
       "13    3.41      0.07      5.03       0.03\n",
       "14    4.56      0.09      4.96       0.03\n",
       "15    6.64      0.14      6.16       0.04\n",
       "16    3.86      0.07      6.17       0.04\n",
       "17    4.84       0.1      5.11       0.04\n",
       "18    3.15      0.06      5.92       0.03\n",
       "19    3.77      0.07      5.75       0.04\n",
       "20    2.95      0.06      7.11       0.04"
      ]
     },
     "execution_count": 9,
     "metadata": {},
     "output_type": "execute_result"
    }
   ],
   "source": [
    "pd.set_option('display.precision',2)\n",
    "pd.set_option('display.max_colwidth', 10)\n",
    "df=pd.DataFrame({'Qe-19C':10**(19)*cargas, \"$\\delta$q\":inQ*10**(21)/100,'Raio e-4':raio,'$\\delta$r':inr*10**(6)/100}, \n",
    "                index=[1,2,3,4,5,6,7,8,9,10,11,12,13,14,15,16,17,18,19,20])\n",
    "\n",
    "df\n"
   ]
  },
  {
   "cell_type": "code",
   "execution_count": 10,
   "id": "9cba7b16",
   "metadata": {},
   "outputs": [],
   "source": [
    "x=[0,0,0,0]\n",
    "Y=[1.85,2.97,4.99,6.67]"
   ]
  },
  {
   "cell_type": "code",
   "execution_count": 11,
   "id": "437965b2",
   "metadata": {},
   "outputs": [
    {
     "data": {
      "image/png": "[encoded data removed]",
      "text/plain": [
       "<Figure size 432x288 with 1 Axes>"
      ]
     },
     "metadata": {
      "needs_background": "light"
     },
     "output_type": "display_data"
    }
   ],
   "source": [
    "plt.rcParams.update({'font.sans-serif':'Arial'})\n",
    "fig, ax = plt.subplots()\n",
    "ax.set_title('Distribuição de Cargas vs. Raio',fontsize=14)\n",
    "ax.tick_params(axis='both', labelsize=11)\n",
    "ax.scatter(raio, 10**(19)*cargas,color='blue')\n",
    "ax.tick_params(axis='y', rotation=0)\n",
    "ax.axhline(y=1.84, xmin=0, xmax=1,color='blue')\n",
    "ax.axhline(y=2.97, xmin=0, xmax=1,color='blue')\n",
    "ax.axhline(y=4.99, xmin=0, xmax=1,color='blue')\n",
    "ax.axhline(y=6.67, xmin=0, xmax=1,color='blue')\n",
    "ax.set_yticks(Y)\n",
    "ax.set_xlim(3,8)\n",
    "\n",
    "ax.set_ylabel(r'$\\frac {\\Delta Q}{10^{-19}C}$',fontsize=14,rotation=0, labelpad=24)\n",
    "ax.set_xlabel(r'$\\frac{r}{10^{-4}m}$',fontsize=14)\n",
    "\n",
    "\n",
    "\n",
    "#ax.grid(axis='y')\n",
    "#plt.savefig('cxr.PNG',dpi=450)\n",
    "plt.show()\n"
   ]
  },
  {
   "cell_type": "code",
   "execution_count": 12,
   "id": "6a7c2233",
   "metadata": {
    "scrolled": true
   },
   "outputs": [
    {
     "data": {
      "text/html": [
       "<div>\n",
       "<style scoped>\n",
       "    .dataframe tbody tr th:only-of-type {\n",
       "        vertical-align: middle;\n",
       "    }\n",
       "\n",
       "    .dataframe tbody tr th {\n",
       "        vertical-align: top;\n",
       "    }\n",
       "\n",
       "    .dataframe thead th {\n",
       "        text-align: right;\n",
       "    }\n",
       "</style>\n",
       "<table border=\"1\" class=\"dataframe\">\n",
       "  <thead>\n",
       "    <tr style=\"text-align: right;\">\n",
       "      <th></th>\n",
       "      <th>Intervalo entre linhas (e-19C)</th>\n",
       "    </tr>\n",
       "  </thead>\n",
       "  <tbody>\n",
       "    <tr>\n",
       "      <th>L1-Ex</th>\n",
       "      <td>1.85 ± 0.04</td>\n",
       "    </tr>\n",
       "    <tr>\n",
       "      <th>L2-L1</th>\n",
       "      <td>1.12 ± 0.02</td>\n",
       "    </tr>\n",
       "    <tr>\n",
       "      <th>L3-L2</th>\n",
       "      <td>2.0 ± 0.1</td>\n",
       "    </tr>\n",
       "    <tr>\n",
       "      <th>L4-L3</th>\n",
       "      <td>1.67 ± 0.02</td>\n",
       "    </tr>\n",
       "    <tr>\n",
       "      <th>Média (e ± $\\delta_e$)</th>\n",
       "      <td>1.66 ± 0.05</td>\n",
       "    </tr>\n",
       "  </tbody>\n",
       "</table>\n",
       "</div>"
      ],
      "text/plain": [
       "                       Intervalo entre linhas (e-19C)\n",
       "L1-Ex                                     1.85 ± 0.04\n",
       "L2-L1                                     1.12 ± 0.02\n",
       "L3-L2                                       2.0 ± 0.1\n",
       "L4-L3                                     1.67 ± 0.02\n",
       "Média (e ± $\\delta_e$)                    1.66 ± 0.05"
      ]
     },
     "execution_count": 12,
     "metadata": {},
     "output_type": "execute_result"
    }
   ],
   "source": [
    "pd.set_option('display.max_colwidth', 50)\n",
    "pd.DataFrame({'Intervalo entre linhas (e-19C)':['1.85 ± 0.04',\"1.12 ± 0.02\",\"2.0 ± 0.1\",'1.67 ± 0.02',\"1.66 ± 0.05\"]},\n",
    "             index=['L1-Ex', 'L2-L1','L3-L2','L4-L3','Média (e ± $\\delta_e$)'])"
   ]
  },
  {
   "cell_type": "code",
   "execution_count": 13,
   "id": "3bf90130",
   "metadata": {},
   "outputs": [],
   "source": [
    "N=df['Qe-19C'][:]/1.6"
   ]
  },
  {
   "cell_type": "code",
   "execution_count": 14,
   "id": "adee3344",
   "metadata": {},
   "outputs": [
    {
     "data": {
      "image/png": "[encoded data removed]",
      "text/plain": [
       "<Figure size 432x288 with 1 Axes>"
      ]
     },
     "metadata": {
      "needs_background": "light"
     },
     "output_type": "display_data"
    }
   ],
   "source": [
    "his=pd.DataFrame({'Qe-19C':10**(19)*cargas, \"n\":round(N,0),'Q/n':df['Qe-19C'][:]/round(N,0)},  index=[1,2,3,4,5,6,7,8,9,10,11,12,13,14,15,16,17,18,19,20])\n",
    "                             \n",
    "carga_elementar=his['Q/n'][:] #Valores obtidos para carga elementar do eletron\n",
    "\n",
    "fig, ax=plt.subplots()\n",
    "ax.set_title('Distribuição dos valores de Carga Elementar',fontsize=14) #Título da Figura\n",
    "ax.set_ylabel('Carga Elementar', fontsize=12) #Nome do eixo Y\n",
    "ax.set_xticks([1]) #Ajustando o eixo x pra 1 conjunto de dados\n",
    "ax.set_xticklabels(['Conjunto de Dados 1'],fontsize=12) # Nomeando o conjunto de dados\n",
    "ax.set_ylim(1.2,2.4) #Limites do eixo Y\n",
    "ax.set_yticks(np.arange(1.2,2.8,0.4)) #Estabelecendo o intervalo de valores do eixo Y (0.4 em 0.4 até o limite)\n",
    "ax.violinplot(carga_elementar, showmeans=True, showmedians=False) #Plotando o violino junto com a média\n",
    "#plt.savefig('expMillikan.png',dpi=350,facecolor='w') #Salvando a figura com 350dpi\n",
    "plt.show()"
   ]
  }
 ],
 "metadata": {
  "kernelspec": {
   "display_name": "Python 3 (ipykernel)",
   "language": "python",
   "name": "python3"
  },
  "language_info": {
   "codemirror_mode": {
    "name": "ipython",
    "version": 3
   },
   "file_extension": ".py",
   "mimetype": "text/x-python",
   "name": "python",
   "nbconvert_exporter": "python",
   "pygments_lexer": "ipython3",
   "version": "3.10.4"
  }
 },
 "nbformat": 4,
 "nbformat_minor": 5
}
