{
 "cells": [
  {
   "cell_type": "markdown",
   "id": "fa3d1abf",
   "metadata": {},
   "source": [
    "### Espectros Atômicos: Hg e He\n",
    "#### Consta nesse arquivo os códigos utilizados para os cálculos dos valores e propagações de incerteza relativos ao experimento.\n",
    "#### Paulo Henrique Lorenzoni Filho"
   ]
  },
  {
   "cell_type": "code",
   "execution_count": 1,
   "id": "44da846e",
   "metadata": {},
   "outputs": [],
   "source": [
    "import pandas as pd\n",
    "import numpy as np\n",
    "from uncertainties import ufloat, unumpy\n",
    "import pandas as pd"
   ]
  },
  {
   "cell_type": "markdown",
   "id": "73d98cc1",
   "metadata": {},
   "source": [
    "### Dados para Lâmpada de Hg"
   ]
  },
  {
   "cell_type": "code",
   "execution_count": 2,
   "id": "b99b080c",
   "metadata": {},
   "outputs": [
    {
     "data": {
      "text/plain": [
       "array([434.97726631730825+/-0.5378157641283033,\n",
       "       550.4057325193864+/-0.639992318313688,\n",
       "       594.3139883522466+/-0.6743207640280131,\n",
       "       613.2010016410197+/-0.6881974163637324,\n",
       "       701.9651857131096+/-0.7454814194757303], dtype=object)"
      ]
     },
     "execution_count": 2,
     "metadata": {},
     "output_type": "execute_result"
    }
   ],
   "source": [
    "hg=np.array([ufloat(106.25,0.04),ufloat(137.50,0.04),ufloat(150.00,0.04),ufloat(155.50,0.04),ufloat(182.50,0.04)]) #l +/- delta l\n",
    "d=np.array([ufloat(393.0,0.5)])\n",
    "k=1/600\n",
    "lbda=(k*hg/(d**2 + hg**2)**(1/2))*10**6 #Comprimento de Onda (nm)\n",
    "lbda\n"
   ]
  },
  {
   "cell_type": "code",
   "execution_count": 3,
   "id": "6d0a0ae0",
   "metadata": {},
   "outputs": [
    {
     "data": {
      "text/plain": [
       "array([689.214083619043+/-0.8521599350876572,\n",
       "       544.675391783716+/-0.6333292807843324,\n",
       "       504.4344637271345+/-0.5723416235340855,\n",
       "       488.89753473609716+/-0.5486912437709119,\n",
       "       427.0759634545808+/-0.45355126142994423], dtype=object)"
      ]
     },
     "execution_count": 3,
     "metadata": {},
     "output_type": "execute_result"
    }
   ],
   "source": [
    "c=299792458\n",
    "f=c/lbda*10**(-3)\n",
    "f # Frequencia em 10^12 Hz"
   ]
  },
  {
   "cell_type": "code",
   "execution_count": 4,
   "id": "e4464fe1",
   "metadata": {},
   "outputs": [
    {
     "data": {
      "text/plain": [
       "array([4.569489374394255e-31+/-5.649820369631167e-34,\n",
       "       3.6111978475260365e-31+/-4.198973131600124e-34,\n",
       "       3.3444004945109017e-31+/-3.7946249640309867e-34,\n",
       "       3.2413906553003236e-31+/-3.6378229462011462e-34,\n",
       "       2.8315136377038703e-31+/-3.00704486328053e-34], dtype=object)"
      ]
     },
     "execution_count": 4,
     "metadata": {},
     "output_type": "execute_result"
    }
   ],
   "source": [
    "h=6.63*10**(-34)\n",
    "E=h*f\n",
    "E #Energia"
   ]
  },
  {
   "cell_type": "code",
   "execution_count": 5,
   "id": "0c9aaa1e",
   "metadata": {},
   "outputs": [
    {
     "data": {
      "text/html": [
       "<div>\n",
       "<style scoped>\n",
       "    .dataframe tbody tr th:only-of-type {\n",
       "        vertical-align: middle;\n",
       "    }\n",
       "\n",
       "    .dataframe tbody tr th {\n",
       "        vertical-align: top;\n",
       "    }\n",
       "\n",
       "    .dataframe thead th {\n",
       "        text-align: right;\n",
       "    }\n",
       "</style>\n",
       "<table border=\"1\" class=\"dataframe\">\n",
       "  <thead>\n",
       "    <tr style=\"text-align: right;\">\n",
       "      <th></th>\n",
       "      <th>Raias Observadas</th>\n",
       "      <th>2l ± δl (mm)</th>\n",
       "      <th>λ ± δλ (nm)</th>\n",
       "      <th>f ± δf (e12) Hz</th>\n",
       "      <th>E ± δE (e-32) J</th>\n",
       "    </tr>\n",
       "  </thead>\n",
       "  <tbody>\n",
       "    <tr>\n",
       "      <th>0</th>\n",
       "      <td>Violeta</td>\n",
       "      <td>212,50 ± 0,07</td>\n",
       "      <td>435,0 ± 0,5</td>\n",
       "      <td>689,2 ± 0,8</td>\n",
       "      <td>45,69 ± 0,05</td>\n",
       "    </tr>\n",
       "    <tr>\n",
       "      <th>1</th>\n",
       "      <td>Verde</td>\n",
       "      <td>275,00 ± 0,07</td>\n",
       "      <td>550,4 ± 0,6</td>\n",
       "      <td>544,7 ± 0,6</td>\n",
       "      <td>36,11 ± 0,04</td>\n",
       "    </tr>\n",
       "    <tr>\n",
       "      <th>2</th>\n",
       "      <td>Amarelo</td>\n",
       "      <td>300,00 ± 0,07</td>\n",
       "      <td>594,3 ± 0,7</td>\n",
       "      <td>504,4 ± 0,6</td>\n",
       "      <td>33,44 ± 0,04</td>\n",
       "    </tr>\n",
       "    <tr>\n",
       "      <th>3</th>\n",
       "      <td>Laranja</td>\n",
       "      <td>311,00 ± 0,07</td>\n",
       "      <td>613,2 ± 0,7</td>\n",
       "      <td>488,9 ± 0,5</td>\n",
       "      <td>32,41 ± 0,04</td>\n",
       "    </tr>\n",
       "    <tr>\n",
       "      <th>4</th>\n",
       "      <td>Vermelho</td>\n",
       "      <td>365,00 ± 0,07</td>\n",
       "      <td>702,0 ± 0,7</td>\n",
       "      <td>427, 1 ± 0,4</td>\n",
       "      <td>28,31 ± 0,03</td>\n",
       "    </tr>\n",
       "  </tbody>\n",
       "</table>\n",
       "</div>"
      ],
      "text/plain": [
       "  Raias Observadas   2l ± δl (mm)  λ ± δλ (nm) f ± δf (e12) Hz E ± δE (e-32) J\n",
       "0          Violeta  212,50 ± 0,07  435,0 ± 0,5     689,2 ± 0,8    45,69 ± 0,05\n",
       "1            Verde  275,00 ± 0,07  550,4 ± 0,6     544,7 ± 0,6    36,11 ± 0,04\n",
       "2          Amarelo  300,00 ± 0,07  594,3 ± 0,7     504,4 ± 0,6    33,44 ± 0,04\n",
       "3          Laranja  311,00 ± 0,07  613,2 ± 0,7     488,9 ± 0,5    32,41 ± 0,04\n",
       "4         Vermelho  365,00 ± 0,07  702,0 ± 0,7    427, 1 ± 0,4    28,31 ± 0,03"
      ]
     },
     "execution_count": 5,
     "metadata": {},
     "output_type": "execute_result"
    }
   ],
   "source": [
    "pd.read_excel('espectro.xlsx', sheet_name='Hg')"
   ]
  },
  {
   "cell_type": "markdown",
   "id": "58c3393a",
   "metadata": {},
   "source": [
    "### Dados para Lâmpada de He"
   ]
  },
  {
   "cell_type": "code",
   "execution_count": 6,
   "id": "9f47c658",
   "metadata": {},
   "outputs": [
    {
     "data": {
      "text/plain": [
       "array([456.7911055168428+/-0.5582805508971024,\n",
       "       479.2857666075383+/-0.578865242094198,\n",
       "       501.49848242388987+/-0.5986319461210365,\n",
       "       516.1463202267588+/-0.6113423514869543,\n",
       "       580.4106946521044+/-0.6637563602651952,\n",
       "       681.2041319642155+/-0.7333185164689523], dtype=object)"
      ]
     },
     "execution_count": 6,
     "metadata": {},
     "output_type": "execute_result"
    }
   ],
   "source": [
    "lHe=np.array([ufloat(112.00,0.04),ufloat(118.00,0.04),ufloat(124.00,0.04),ufloat(128.00,0.04),ufloat(146.00,0.04),ufloat(176.00,0.04)])\n",
    "d=np.array([ufloat(393.0, 0.5)])\n",
    "C=(k*lHe/(d**2 + lHe**2)**(1/2))*10**6 #Comprimento de Onda (nm)\n",
    "C"
   ]
  },
  {
   "cell_type": "code",
   "execution_count": 7,
   "id": "3099c238",
   "metadata": {},
   "outputs": [
    {
     "data": {
      "text/plain": [
       "array([656.3009970625317+/-0.802117374373608,\n",
       "       625.4983537733224+/-0.7554558912720729,\n",
       "       597.7933503427862+/-0.7135778257279717,\n",
       "       580.8284322714769+/-0.6879541821383638,\n",
       "       516.5178049996034+/-0.590688595881581,\n",
       "       440.0919547207744+/-0.4737604547629387], dtype=object)"
      ]
     },
     "execution_count": 7,
     "metadata": {},
     "output_type": "execute_result"
    }
   ],
   "source": [
    "f=c/C*10**(-3)\n",
    "f #Frequência"
   ]
  },
  {
   "cell_type": "code",
   "execution_count": 8,
   "id": "70430ffd",
   "metadata": {},
   "outputs": [
    {
     "data": {
      "text/plain": [
       "array([4.351275610524584e-31+/-5.318038192097021e-34,\n",
       "       4.147054085517127e-31+/-5.008672559133843e-34,\n",
       "       3.963369912772672e-31+/-4.731020984576451e-34,\n",
       "       3.8508925059598914e-31+/-4.561136227577352e-34,\n",
       "       3.42451304714737e-31+/-3.9162653906948815e-34,\n",
       "       2.917809659798734e-31+/-3.1410318150782836e-34], dtype=object)"
      ]
     },
     "execution_count": 8,
     "metadata": {},
     "output_type": "execute_result"
    }
   ],
   "source": [
    "E=h*f\n",
    "E # Energia"
   ]
  },
  {
   "cell_type": "code",
   "execution_count": 9,
   "id": "5fa089aa",
   "metadata": {},
   "outputs": [
    {
     "data": {
      "text/html": [
       "<div>\n",
       "<style scoped>\n",
       "    .dataframe tbody tr th:only-of-type {\n",
       "        vertical-align: middle;\n",
       "    }\n",
       "\n",
       "    .dataframe tbody tr th {\n",
       "        vertical-align: top;\n",
       "    }\n",
       "\n",
       "    .dataframe thead th {\n",
       "        text-align: right;\n",
       "    }\n",
       "</style>\n",
       "<table border=\"1\" class=\"dataframe\">\n",
       "  <thead>\n",
       "    <tr style=\"text-align: right;\">\n",
       "      <th></th>\n",
       "      <th>Raias Observadas</th>\n",
       "      <th>2l ± δl (mm)</th>\n",
       "      <th>λ ± δλ (nm)</th>\n",
       "      <th>f ± δf (e12) Hz</th>\n",
       "      <th>E ± δE (e-32) J</th>\n",
       "    </tr>\n",
       "  </thead>\n",
       "  <tbody>\n",
       "    <tr>\n",
       "      <th>0</th>\n",
       "      <td>Violeta</td>\n",
       "      <td>224,00  ± 0,07</td>\n",
       "      <td>456,8  ± 0,5</td>\n",
       "      <td>656,3  ± 0,8</td>\n",
       "      <td>43,51 ± 0,05</td>\n",
       "    </tr>\n",
       "    <tr>\n",
       "      <th>1</th>\n",
       "      <td>Ciano</td>\n",
       "      <td>236,00 ± 0,07</td>\n",
       "      <td>479,3  ± 0,6</td>\n",
       "      <td>625,5  ± 0,7</td>\n",
       "      <td>41,47 ± 0,05</td>\n",
       "    </tr>\n",
       "    <tr>\n",
       "      <th>2</th>\n",
       "      <td>Verde</td>\n",
       "      <td>256,00 ± 0,07</td>\n",
       "      <td>516,1  ± 0,6</td>\n",
       "      <td>580,8  ± 0,7</td>\n",
       "      <td>38,51  ± 0,04</td>\n",
       "    </tr>\n",
       "    <tr>\n",
       "      <th>3</th>\n",
       "      <td>Laranja</td>\n",
       "      <td>292,00 ± 0,07</td>\n",
       "      <td>580,4  ± 0,7</td>\n",
       "      <td>516,5  ± 0,6</td>\n",
       "      <td>34,24  ± 0,04</td>\n",
       "    </tr>\n",
       "    <tr>\n",
       "      <th>4</th>\n",
       "      <td>Vermelho</td>\n",
       "      <td>352,00 ± 0,07</td>\n",
       "      <td>681,2 ± 0,7</td>\n",
       "      <td>440,1  ± 0,5</td>\n",
       "      <td>29,17  ± 0,04</td>\n",
       "    </tr>\n",
       "  </tbody>\n",
       "</table>\n",
       "</div>"
      ],
      "text/plain": [
       "  Raias Observadas    2l ± δl (mm)   λ ± δλ (nm) f ± δf (e12) Hz  \\\n",
       "0          Violeta  224,00  ± 0,07  456,8  ± 0,5    656,3  ± 0,8   \n",
       "1            Ciano   236,00 ± 0,07  479,3  ± 0,6    625,5  ± 0,7   \n",
       "2            Verde   256,00 ± 0,07  516,1  ± 0,6    580,8  ± 0,7   \n",
       "3          Laranja  292,00 ± 0,07   580,4  ± 0,7    516,5  ± 0,6   \n",
       "4         Vermelho   352,00 ± 0,07   681,2 ± 0,7    440,1  ± 0,5   \n",
       "\n",
       "  E ± δE (e-32) J  \n",
       "0    43,51 ± 0,05  \n",
       "1    41,47 ± 0,05  \n",
       "2   38,51  ± 0,04  \n",
       "3   34,24  ± 0,04  \n",
       "4   29,17  ± 0,04  "
      ]
     },
     "execution_count": 9,
     "metadata": {},
     "output_type": "execute_result"
    }
   ],
   "source": [
    "pd.read_excel('espectro.xlsx', sheet_name='He').drop(5)"
   ]
  }
 ],
 "metadata": {
  "kernelspec": {
   "display_name": "Python 3 (ipykernel)",
   "language": "python",
   "name": "python3"
  },
  "language_info": {
   "codemirror_mode": {
    "name": "ipython",
    "version": 3
   },
   "file_extension": ".py",
   "mimetype": "text/x-python",
   "name": "python",
   "nbconvert_exporter": "python",
   "pygments_lexer": "ipython3",
   "version": "3.10.4"
  }
 },
 "nbformat": 4,
 "nbformat_minor": 5
}
