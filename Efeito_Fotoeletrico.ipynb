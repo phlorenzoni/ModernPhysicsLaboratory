{
 "cells": [
  {
   "cell_type": "markdown",
   "id": "e1285a0d",
   "metadata": {},
   "source": [
    "### Análise dos Dados do Experimento: Efeito Fotoelétrico\n",
    "#### Paulo Henrique Lorenzoni Filho"
   ]
  },
  {
   "cell_type": "markdown",
   "id": "703e1920",
   "metadata": {},
   "source": [
    "#### Demonstração da equação:\n",
    "$$\\Delta E= K $$\n",
    "$$hf-W_0=\\frac{mv^2}{2} $$\n",
    "Mas:\n",
    "$$\\frac{mv^2}{2}=eU_0$$\n",
    "Logo:\n",
    "$$ U_0=\\frac{hf}{e}-\\frac{W_0}{e}$$\n"
   ]
  },
  {
   "cell_type": "code",
   "execution_count": 1,
   "id": "0ad4cc37",
   "metadata": {},
   "outputs": [],
   "source": [
    "from uncertainties import ufloat, unumpy\n",
    "from uncertainties.umath import sin\n",
    "import pandas as pd\n",
    "import numpy as np\n",
    "import matplotlib.pyplot as plt\n",
    "from sklearn.linear_model import LinearRegression"
   ]
  },
  {
   "cell_type": "code",
   "execution_count": 2,
   "id": "84239bd9",
   "metadata": {},
   "outputs": [],
   "source": [
    "alpha_graus=unumpy.uarray([13.5,14.0,15.0,16.5,18.0,19.0,\n",
    "      20.0,22.0,24.0], [0.25,0.25,0.25,0.25,0.25,0.25,0.25,0.25,0.25])\n",
    "alpha_radianos=alpha_graus*np.pi/180\n",
    "k=1/600\n",
    "L=k*unumpy.sin(alpha_radianos)*10**6 #Calculando comprimento de onda em nanometros"
   ]
  },
  {
   "cell_type": "code",
   "execution_count": 3,
   "id": "3fc8ddf0",
   "metadata": {},
   "outputs": [
    {
     "data": {
      "text/plain": [
       "array([770.524939236011+/-14.003943133001068,\n",
       "       743.5270559290667+/-13.011971234318546,\n",
       "       694.985466501314+/-11.31724314402878,\n",
       "       633.3301286503189+/-9.329163074121903,\n",
       "       582.0892639378505+/-7.816834677931793,\n",
       "       552.4971418040544+/-7.001249580458913,\n",
       "       525.9207047016646+/-6.304806710333524,\n",
       "       480.17167332741207+/-5.185663787697572,\n",
       "       442.2406435765319+/-4.334039770595847], dtype=object)"
      ]
     },
     "execution_count": 3,
     "metadata": {},
     "output_type": "execute_result"
    }
   ],
   "source": [
    "c=299792458\n",
    "f=(c/L)*10**(-3)\n",
    "f"
   ]
  },
  {
   "cell_type": "code",
   "execution_count": 4,
   "id": "09a1132f",
   "metadata": {
    "scrolled": true
   },
   "outputs": [],
   "source": [
    "unumpy.nominal_values(L)\n",
    "angulo=['13,5 ± 0,2','13,0  ± 0,2','15.0 ± 0,2','16,5 ± 0,2','18,0 ± 0,2','19,0 ± 0,2','20,0 ± 0,2','22,0  ± 0,2','24,0 ± 0,2']\n",
    "comprimento_de_onda=['389 ± 7', '403 ± 7' , '431 ± 7', '473 ± 7','515 ± 7', '542 ± 7', '570 ± 7', '624 ± 7','677 ± 7']\n",
    "frequencia=['770 ± 14','743 ± 13','695 ± 11','636 ± 9','582 ± 8','552 ± 7','525 ± 6','480 ± 5','442 ± 4']\n",
    "U_0=['0,94 ± 0,01','0,77 ± 0,01','0,73 ± 0,01', '0,57 ± 0,01', '0,45 ± 0,01','0,37 ± 0,01','0,33 ± 0,01','0,20 ± 0,01','0,12 ± 0,01']\n",
    "dicionario={'𝛼 ± 𝛿𝛼(°)':angulo,'𝜆 ± 𝛿𝜆 (nm)':comprimento_de_onda, '𝑓 ± 𝛿𝑓(e12)𝐻𝑧':frequencia,'𝑈 ± 𝛿𝑈 (𝑉)':U_0}\n",
    "df=pd.DataFrame(data=dicionario, index=np.arange(1,10,1))\n",
    "df.to_excel('efeitofoto.xlsx')"
   ]
  },
  {
   "cell_type": "code",
   "execution_count": 5,
   "id": "c66c6103",
   "metadata": {},
   "outputs": [
    {
     "data": {
      "text/html": [
       "<style>#sk-container-id-1 {color: black;background-color: white;}#sk-container-id-1 pre{padding: 0;}#sk-container-id-1 div.sk-toggleable {background-color: white;}#sk-container-id-1 label.sk-toggleable__label {cursor: pointer;display: block;width: 100%;margin-bottom: 0;padding: 0.3em;box-sizing: border-box;text-align: center;}#sk-container-id-1 label.sk-toggleable__label-arrow:before {content: \"▸\";float: left;margin-right: 0.25em;color: #696969;}#sk-container-id-1 label.sk-toggleable__label-arrow:hover:before {color: black;}#sk-container-id-1 div.sk-estimator:hover label.sk-toggleable__label-arrow:before {color: black;}#sk-container-id-1 div.sk-toggleable__content {max-height: 0;max-width: 0;overflow: hidden;text-align: left;background-color: #f0f8ff;}#sk-container-id-1 div.sk-toggleable__content pre {margin: 0.2em;color: black;border-radius: 0.25em;background-color: #f0f8ff;}#sk-container-id-1 input.sk-toggleable__control:checked~div.sk-toggleable__content {max-height: 200px;max-width: 100%;overflow: auto;}#sk-container-id-1 input.sk-toggleable__control:checked~label.sk-toggleable__label-arrow:before {content: \"▾\";}#sk-container-id-1 div.sk-estimator input.sk-toggleable__control:checked~label.sk-toggleable__label {background-color: #d4ebff;}#sk-container-id-1 div.sk-label input.sk-toggleable__control:checked~label.sk-toggleable__label {background-color: #d4ebff;}#sk-container-id-1 input.sk-hidden--visually {border: 0;clip: rect(1px 1px 1px 1px);clip: rect(1px, 1px, 1px, 1px);height: 1px;margin: -1px;overflow: hidden;padding: 0;position: absolute;width: 1px;}#sk-container-id-1 div.sk-estimator {font-family: monospace;background-color: #f0f8ff;border: 1px dotted black;border-radius: 0.25em;box-sizing: border-box;margin-bottom: 0.5em;}#sk-container-id-1 div.sk-estimator:hover {background-color: #d4ebff;}#sk-container-id-1 div.sk-parallel-item::after {content: \"\";width: 100%;border-bottom: 1px solid gray;flex-grow: 1;}#sk-container-id-1 div.sk-label:hover label.sk-toggleable__label {background-color: #d4ebff;}#sk-container-id-1 div.sk-serial::before {content: \"\";position: absolute;border-left: 1px solid gray;box-sizing: border-box;top: 0;bottom: 0;left: 50%;z-index: 0;}#sk-container-id-1 div.sk-serial {display: flex;flex-direction: column;align-items: center;background-color: white;padding-right: 0.2em;padding-left: 0.2em;position: relative;}#sk-container-id-1 div.sk-item {position: relative;z-index: 1;}#sk-container-id-1 div.sk-parallel {display: flex;align-items: stretch;justify-content: center;background-color: white;position: relative;}#sk-container-id-1 div.sk-item::before, #sk-container-id-1 div.sk-parallel-item::before {content: \"\";position: absolute;border-left: 1px solid gray;box-sizing: border-box;top: 0;bottom: 0;left: 50%;z-index: -1;}#sk-container-id-1 div.sk-parallel-item {display: flex;flex-direction: column;z-index: 1;position: relative;background-color: white;}#sk-container-id-1 div.sk-parallel-item:first-child::after {align-self: flex-end;width: 50%;}#sk-container-id-1 div.sk-parallel-item:last-child::after {align-self: flex-start;width: 50%;}#sk-container-id-1 div.sk-parallel-item:only-child::after {width: 0;}#sk-container-id-1 div.sk-dashed-wrapped {border: 1px dashed gray;margin: 0 0.4em 0.5em 0.4em;box-sizing: border-box;padding-bottom: 0.4em;background-color: white;}#sk-container-id-1 div.sk-label label {font-family: monospace;font-weight: bold;display: inline-block;line-height: 1.2em;}#sk-container-id-1 div.sk-label-container {text-align: center;}#sk-container-id-1 div.sk-container {/* jupyter's `normalize.less` sets `[hidden] { display: none; }` but bootstrap.min.css set `[hidden] { display: none !important; }` so we also need the `!important` here to be able to override the default hidden behavior on the sphinx rendered scikit-learn.org. See: https://github.com/scikit-learn/scikit-learn/issues/21755 */display: inline-block !important;position: relative;}#sk-container-id-1 div.sk-text-repr-fallback {display: none;}</style><div id=\"sk-container-id-1\" class=\"sk-top-container\"><div class=\"sk-text-repr-fallback\"><pre>LinearRegression()</pre><b>In a Jupyter environment, please rerun this cell to show the HTML representation or trust the notebook. <br />On GitHub, the HTML representation is unable to render, please try loading this page with nbviewer.org.</b></div><div class=\"sk-container\" hidden><div class=\"sk-item\"><div class=\"sk-estimator sk-toggleable\"><input class=\"sk-toggleable__control sk-hidden--visually\" id=\"sk-estimator-id-1\" type=\"checkbox\" checked><label for=\"sk-estimator-id-1\" class=\"sk-toggleable__label sk-toggleable__label-arrow\">LinearRegression</label><div class=\"sk-toggleable__content\"><pre>LinearRegression()</pre></div></div></div></div></div>"
      ],
      "text/plain": [
       "LinearRegression()"
      ]
     },
     "execution_count": 5,
     "metadata": {},
     "output_type": "execute_result"
    }
   ],
   "source": [
    "model=LinearRegression()\n",
    "x=unumpy.nominal_values(f)\n",
    "X=x.reshape(-1,1)\n",
    "u=[0.94,0.77,0.73,0.57,0.45,0.37,0.33,0.20,0.12]\n",
    "y_erro=[0.01,0.01,0.01,0.01,0.01,0.01,0.01,0.01,0.01]\n",
    "model.fit(X,u)"
   ]
  },
  {
   "cell_type": "code",
   "execution_count": 6,
   "id": "2afa8f97",
   "metadata": {},
   "outputs": [],
   "source": [
    "pd.DataFrame(data={'x':x,'dx':unumpy.std_devs(f),'y':u,'dy':y_erro}).to_excel('dad.xlsx')"
   ]
  },
  {
   "cell_type": "code",
   "execution_count": 7,
   "id": "fd81705b",
   "metadata": {},
   "outputs": [],
   "source": [
    "ajuste=model.coef_[0]*x+model.intercept_ "
   ]
  },
  {
   "cell_type": "code",
   "execution_count": 8,
   "id": "d61e9a1a",
   "metadata": {},
   "outputs": [
    {
     "data": {
      "text/plain": [
       "0.0023687449232394162"
      ]
     },
     "execution_count": 8,
     "metadata": {},
     "output_type": "execute_result"
    }
   ],
   "source": [
    "model.coef_[0]"
   ]
  },
  {
   "cell_type": "code",
   "execution_count": 9,
   "id": "1f7e0d9c",
   "metadata": {},
   "outputs": [
    {
     "data": {
      "text/plain": [
       "2.3687449232394173e-15"
      ]
     },
     "execution_count": 9,
     "metadata": {},
     "output_type": "execute_result"
    }
   ],
   "source": [
    "2.3687449232394173e-15\n"
   ]
  },
  {
   "cell_type": "code",
   "execution_count": 10,
   "id": "a017674e",
   "metadata": {},
   "outputs": [
    {
     "data": {
      "image/png": "[encoded data removed]",
      "text/plain": [
       "<Figure size 432x288 with 1 Axes>"
      ]
     },
     "metadata": {
      "needs_background": "light"
     },
     "output_type": "display_data"
    }
   ],
   "source": [
    "fig,ax=plt.subplots()\n",
    "ax.set_title('Tensão de Frenagem vs. Frequência da Luz')\n",
    "ax.set_xlabel('$f \\,\\,(10^{12}Hz)$')\n",
    "ax.xaxis.set_label_coords(0.94, -0.1)\n",
    "ax.set_ylabel('$U_0(V)$', rotation=0, labelpad=15)\n",
    "ax.yaxis.set_label_coords(-0.12, 0.97)\n",
    "ax.scatter(x,u, color='blue', label='$U_0(f)$')\n",
    "ax.errorbar(x,u,yerr=0.01,xerr=unumpy.std_devs(f), fmt='o', color='blue')\n",
    "ax.plot(X,ajuste, color='red', label='Ajuste Linear')\n",
    "ax.axes.set_xticks(np.arange(400,850,50))\n",
    "ax.axes.set_yticks(np.arange(0,1.2,0.2))\n",
    "ax.legend(loc=0)\n",
    "ax.text(406,0.65,'Coef. Angular$=(2,37±0,03)10^{-15}$\\n $h=(3,79±0,05)\\,10^{-34}\\,m^2kg/s$',fontsize=11)\n",
    "#plt.savefig('Questao2.png',dpi=300)\n",
    "plt.show()"
   ]
  },
  {
   "cell_type": "code",
   "execution_count": 11,
   "id": "c1cd5398",
   "metadata": {},
   "outputs": [],
   "source": [
    "h=1.6*10**(-19)*ufloat(2.3687449232394173e-15,0.03e-15)"
   ]
  }
 ],
 "metadata": {
  "kernelspec": {
   "display_name": "Python 3 (ipykernel)",
   "language": "python",
   "name": "python3"
  },
  "language_info": {
   "codemirror_mode": {
    "name": "ipython",
    "version": 3
   },
   "file_extension": ".py",
   "mimetype": "text/x-python",
   "name": "python",
   "nbconvert_exporter": "python",
   "pygments_lexer": "ipython3",
   "version": "3.10.4"
  }
 },
 "nbformat": 4,
 "nbformat_minor": 5
}
