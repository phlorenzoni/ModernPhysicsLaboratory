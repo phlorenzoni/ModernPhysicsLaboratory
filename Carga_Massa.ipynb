{
 "cells": [
  {
   "cell_type": "markdown",
   "metadata": {},
   "source": [
    "### Experimento Razão Carga/Massa: Análise dos dados obtidos\n",
    "#### Paulo Henrique Lorenzoni Filho"
   ]
  },
  {
   "cell_type": "code",
   "execution_count": 1,
   "metadata": {},
   "outputs": [],
   "source": [
    "import numpy as np\n",
    "from uncertainties import ufloat, unumpy\n",
    "import matplotlib.pyplot as plt"
   ]
  },
  {
   "cell_type": "code",
   "execution_count": 2,
   "metadata": {},
   "outputs": [],
   "source": [
    "i=np.array([ufloat(1.25, 0.01), ufloat(2.59,0.01),ufloat(2.91,0.01),ufloat(3.13, 0.01),ufloat(3.35, 0.01),ufloat(3.55, 0.01),\n",
    "           ufloat(3.69, 0.01),ufloat(3.87, 0.01),ufloat(4.04, 0.01),ufloat(4.16, 0.01)])\n",
    "mi=1.257*10**(-6)\n",
    "n=154\n",
    "B=0.8**(1.5)*mi*n*(i/0.2)"
   ]
  },
  {
   "cell_type": "code",
   "execution_count": 3,
   "metadata": {},
   "outputs": [],
   "source": [
    "U=np.array([ufloat(100, 5),ufloat(120, 5),ufloat(140, 5),ufloat(160, 5),ufloat(180, 5),ufloat(200, 5),\n",
    "           ufloat(220, 5),ufloat(240, 5),ufloat(260, 5),ufloat(280, 5)])"
   ]
  },
  {
   "cell_type": "code",
   "execution_count": 4,
   "metadata": {},
   "outputs": [
    {
     "data": {
      "text/plain": [
       "[1.698888888888889, 1.7819999999999996, 1.8650000000000002, 2.9810000000000008]"
      ]
     },
     "execution_count": 4,
     "metadata": {},
     "output_type": "execute_result"
    }
   ],
   "source": [
    "#EM=(2*U)/(B**2*0.02**2) # e/m(0,02) #2,19 +/- 0,04\n",
    "x=[1,2,3,4]\n",
    "y1=[1.86,1.72,1.70,1.67,1.65,1.68,1.67,1.66,1.68]\n",
    "y2=[2.04,1.87,1.78,1.75,1.73,1.75,1.73,1.73,1.72,1.72]\n",
    "y3=[2.3,1.97,1.87,1.85,1.80,1.80,1.78,1.80,1.70,1.78]\n",
    "y4=[3.6,3.2,3.0,2.90,2.85,2.84,2.85,2.85,2.85,2.87]\n",
    "medias=[np.mean(y1),np.mean(y2),np.mean(y3),np.mean(y4)]\n",
    "medias"
   ]
  },
  {
   "cell_type": "code",
   "execution_count": 5,
   "metadata": {},
   "outputs": [
    {
     "data": {
      "image/png": "[encoded data removed]",
      "text/plain": [
       "<Figure size 432x288 with 1 Axes>"
      ]
     },
     "metadata": {
      "needs_background": "light"
     },
     "output_type": "display_data"
    }
   ],
   "source": [
    "plt.rcParams.update({'font.sans-serif':'Arial'})\n",
    "fig, ax = plt.subplots()\n",
    "ax.set_title('Razão Carga/Massa ($r=0.02m$)',fontsize=14)\n",
    "ax.tick_params(axis='both', labelsize=11)\n",
    "ax.scatter(x, medias,color='blue')\n",
    "ax.tick_params(axis='y', rotation=0)\n",
    "ax.axhline(y=1.69, xmin=0, xmax=1,color='blue')\n",
    "#ax.axhline(y=2.97, xmin=0, xmax=1,color='blue')\n",
    "#ax.set_ylim(1,2.6)\n",
    "\n",
    "ax.set_ylabel(r'$e/m$',fontsize=14,rotation=0, labelpad=24)\n",
    "ax.set_xlabel(r'$U(V)$',fontsize=14)\n",
    "plt.show()"
   ]
  },
  {
   "cell_type": "code",
   "execution_count": 6,
   "metadata": {},
   "outputs": [
    {
     "data": {
      "text/plain": [
       "array([6853601099896.459+/-628784183405.8213,\n",
       "       204210880155.59265+/-8861516717.741867,\n",
       "       187485491991.6178+/-6992808000.3580065,\n",
       "       178125118936.17868+/-5833915482.756326,\n",
       "       175478954177.97348+/-5133390607.983342,\n",
       "       173648707615.29987+/-4594185346.026686,\n",
       "       175490703599.55945+/-4245998437.695219,\n",
       "       173714359300.59866+/-3870826009.014606,\n",
       "       172834729298.35312+/-3572350399.952284,\n",
       "       172791520084.7677+/-3333384869.7886515,\n",
       "       172325717002.9511+/-3117958075.0359945], dtype=object)"
      ]
     },
     "execution_count": 6,
     "metadata": {},
     "output_type": "execute_result"
    }
   ],
   "source": [
    "ii=np.array([ufloat(0.26, 0.01),ufloat(1.65, 0.01),ufloat(1.86, 0.01),ufloat(2.04, 0.01),ufloat(2.18, 0.01),ufloat(2.31, 0.01),\n",
    "            ufloat(2.41, 0.01),ufloat(2.53, 0.01),ufloat(2.64, 0.01),ufloat(2.74, 0.01),ufloat(2.84, 0.01)])\n",
    "mi=1.257*10**(-6)\n",
    "n=154\n",
    "r=0.2\n",
    "B=0.8**(1.5)*mi*n*(ii/0.2)\n",
    "u=np.array([ufloat(100, 5),ufloat(120, 5),ufloat(140, 5),ufloat(160, 5),ufloat(180, 5),ufloat(200, 5),\n",
    "           ufloat(220, 5),ufloat(240, 5),ufloat(260, 5),ufloat(280, 5), ufloat(300,5)])\n",
    "(2*u)/(B**2*0.03**2) # e/m(0,03)"
   ]
  },
  {
   "cell_type": "code",
   "execution_count": 7,
   "metadata": {},
   "outputs": [
    {
     "data": {
      "text/plain": [
       "array([228453369996.54865+/-10288816792.38624,\n",
       "       197259653196.90097+/-7618854199.959911,\n",
       "       187817256392.8205+/-6387815275.380099,\n",
       "       185552283249.2438+/-5658056356.908174,\n",
       "       180351682922.88086+/-4983088946.000201,\n",
       "       180955056183.51166+/-4587757117.566937,\n",
       "       178861173146.65875+/-4188617093.333397,\n",
       "       180035410973.87173+/-3928336797.6459737,\n",
       "       170296368434.7304+/-3457597675.22758,\n",
       "       178985038225.01514+/-3439824099.8587437], dtype=object)"
      ]
     },
     "execution_count": 7,
     "metadata": {},
     "output_type": "execute_result"
    }
   ],
   "source": [
    "iii=np.array([ufloat(1.17,0.01),ufloat(1.36,0.01),ufloat(1.49,0.01),ufloat(1.59,0.01),ufloat(1.70,0.01),ufloat(1.78,0.01),ufloat(1.87,0.01),\n",
    "             ufloat(1.94,0.01),ufloat(2.07,0.01),ufloat(2.09,0.01)])\n",
    "B=0.8**(1.5)*mi*n*(iii/0.2)\n",
    "u=np.array([ufloat(120, 5),ufloat(140, 5),ufloat(160, 5),ufloat(180, 5),ufloat(200, 5),\n",
    "           ufloat(220, 5),ufloat(240, 5),ufloat(260, 5),ufloat(280, 5), ufloat(300,5)])\n",
    "(2*u)/(B**2*0.04**2) # e/m(0,04)"
   ]
  },
  {
   "cell_type": "code",
   "execution_count": 8,
   "metadata": {},
   "outputs": [
    {
     "data": {
      "text/plain": [
       "array([361579163126.69147+/-16954139366.447313,\n",
       "       318675390473.39343+/-12845763862.493406,\n",
       "       304604493328.7315+/-10849941589.52137,\n",
       "       290839312593.7214+/-9286866023.274628,\n",
       "       285989774291.97577+/-8310838916.543044,\n",
       "       284337433054.86926+/-7602516557.3211975,\n",
       "       285545852984.1814+/-7090758571.526704,\n",
       "       285706389248.2979+/-6629896585.793139,\n",
       "       285040198869.52185+/-6213141143.251097,\n",
       "       287171550218.8021+/-5918114198.861934], dtype=object)"
      ]
     },
     "execution_count": 8,
     "metadata": {},
     "output_type": "execute_result"
    }
   ],
   "source": [
    "iiii=np.array([ufloat(0.93,0.01),ufloat(1.07,0.01),ufloat(1.17,0.01),ufloat(1.27,0.01),ufloat(1.35,0.01),ufloat(1.42,0.01),ufloat(1.48,0.01),\n",
    "              ufloat(1.54,0.01),ufloat(1.60,0.01),ufloat(1.65,0.01)])\n",
    "B=0.8**(1.5)*mi*n*(iiii/0.2)\n",
    "(2*u)/(B**2*0.04**2)"
   ]
  }
 ],
 "metadata": {
  "kernelspec": {
   "display_name": "Python 3 (ipykernel)",
   "language": "python",
   "name": "python3"
  },
  "language_info": {
   "codemirror_mode": {
    "name": "ipython",
    "version": 3
   },
   "file_extension": ".py",
   "mimetype": "text/x-python",
   "name": "python",
   "nbconvert_exporter": "python",
   "pygments_lexer": "ipython3",
   "version": "3.10.4"
  }
 },
 "nbformat": 4,
 "nbformat_minor": 2
}
