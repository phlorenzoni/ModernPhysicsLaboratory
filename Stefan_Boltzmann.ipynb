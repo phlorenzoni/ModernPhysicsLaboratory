{
 "cells": [
  {
   "cell_type": "markdown",
   "id": "78e1bb91",
   "metadata": {},
   "source": [
    "### Análise dos Dados Experimentais: Lei da Radiação de Stefan-Boltzmann\n",
    "#### Paulo Henrique Lorenzoni Filho"
   ]
  },
  {
   "cell_type": "code",
   "execution_count": 1,
   "id": "8648fd7d",
   "metadata": {},
   "outputs": [],
   "source": [
    "from uncertainties import ufloat, unumpy\n",
    "import pandas as pd\n",
    "import numpy as np\n",
    "import matplotlib.pyplot as plt\n",
    "from sklearn.linear_model import LinearRegression"
   ]
  },
  {
   "cell_type": "code",
   "execution_count": 2,
   "id": "0c6995b7",
   "metadata": {},
   "outputs": [
    {
     "data": {
      "text/plain": [
       "0.19487179487179487+/-0.007942513412749723"
      ]
     },
     "execution_count": 2,
     "metadata": {},
     "output_type": "execute_result"
    }
   ],
   "source": [
    "i1=ufloat(0.100,0.001)\n",
    "i2=ufloat(0.139,0.001)\n",
    "t1=ufloat(19.4,0.1)\n",
    "t2=ufloat(27.0,0.1)\n",
    "R=((t2-t1)*10**(-3))/(i2-i1)\n",
    "R\n"
   ]
  },
  {
   "cell_type": "code",
   "execution_count": 3,
   "id": "8ddfdc66",
   "metadata": {},
   "outputs": [
    {
     "data": {
      "text/plain": [
       "0.17235639562408706+/-0.007024838996931954"
      ]
     },
     "execution_count": 3,
     "metadata": {},
     "output_type": "execute_result"
    }
   ],
   "source": [
    "a=4.82*10**(-3)\n",
    "b=6.76*10**(-7)\n",
    "T_A=27\n",
    "R_0=R/(1+a*T_A+b*(T_A)**2)\n",
    "R_0"
   ]
  },
  {
   "cell_type": "code",
   "execution_count": 4,
   "id": "a819707f",
   "metadata": {},
   "outputs": [],
   "source": [
    "tensao=unumpy.uarray([0.4,1.1,2.9,5.6,8.8,12.1,16.7,21.6],[0.1,0.1,0.1,0.1,0.1,0.1,0.1,0.1])\n",
    "ddp=unumpy.uarray([1.00,2.00,3.00,4.00,5.00,6.00,7.00,8.00],[0.01,0.01,0.01,0.01,0.01,0.01,0.01,0.01])\n",
    "corrente=unumpy.uarray([1.97,2.64,3.23,3.75,4.21,4.60,5.04,5.43],[0.01,0.01,0.01,0.01,0.01,0.01,0.01,0.01])"
   ]
  },
  {
   "cell_type": "code",
   "execution_count": 5,
   "id": "bbd08096",
   "metadata": {},
   "outputs": [
    {
     "data": {
      "text/plain": [
       "array([0.5076142131979695+/-0.005692689580959978,\n",
       "       0.7575757575757576+/-0.004752121566686054,\n",
       "       0.9287925696594427+/-0.004225360453114263,\n",
       "       1.0666666666666667+/-0.0038989710576820104,\n",
       "       1.187648456057007+/-0.0036878416916676527,\n",
       "       1.3043478260869565+/-0.00357297886038484,\n",
       "       1.3888888888888888+/-0.0033957058643627343,\n",
       "       1.4732965009208103+/-0.0032792239312217594], dtype=object)"
      ]
     },
     "execution_count": 5,
     "metadata": {},
     "output_type": "execute_result"
    }
   ],
   "source": [
    "r=(ddp)/corrente\n",
    "r"
   ]
  },
  {
   "cell_type": "code",
   "execution_count": 6,
   "id": "979a6d84",
   "metadata": {},
   "outputs": [],
   "source": [
    "T=((a**2+(r/R_0 -1)*4*b)**(1/2)-a)/(2*b)+273"
   ]
  },
  {
   "cell_type": "code",
   "execution_count": 7,
   "id": "0302225a",
   "metadata": {},
   "outputs": [],
   "source": [
    "u=np.array([0.3,1.1,2.9,5.6,8.8,12.1,16.7,21.6])#Tensao no sensor\n",
    "t=unumpy.nominal_values(T)\n",
    "y=np.log10(u)\n",
    "x=np.log10(t)\n",
    "model=LinearRegression()\n",
    "X=x.reshape(-1,1)\n",
    "model.fit(X,y);\n"
   ]
  },
  {
   "cell_type": "code",
   "execution_count": 8,
   "id": "6042bb10",
   "metadata": {},
   "outputs": [],
   "source": [
    "ajuste=model.coef_[0]*x+model.intercept_ \n"
   ]
  },
  {
   "cell_type": "code",
   "execution_count": 9,
   "id": "34c50dd8",
   "metadata": {},
   "outputs": [
    {
     "data": {
      "image/png": "[encoded data removed]",
      "text/plain": [
       "<Figure size 432x288 with 1 Axes>"
      ]
     },
     "metadata": {
      "needs_background": "light"
     },
     "output_type": "display_data"
    }
   ],
   "source": [
    "fig,ax=plt.subplots()\n",
    "ax.set_title('Dados Experimentais Obtidos')\n",
    "ax.set_xlabel('$log(T)$')\n",
    "ax.set_ylabel('$log(U)$', rotation=0,labelpad=7)\n",
    "ax.scatter(x,y, color='blue', label='log(U) vs. log(T)')\n",
    "ax.plot(x,ajuste,color='red',label='Ajuste Linear')\n",
    "ax.axes.set_yticks(np.arange(-0.5,1.75,0.5))\n",
    "ax.legend(loc=0)\n",
    "ax.text(2.81,1,'Coef. Angular$=(4.9 ± 0.4)$',fontsize=11)\n",
    "plt.savefig('Q1.png',dpi=300,facecolor='w')\n",
    "plt.show()"
   ]
  }
 ],
 "metadata": {
  "kernelspec": {
   "display_name": "Python 3 (ipykernel)",
   "language": "python",
   "name": "python3"
  },
  "language_info": {
   "codemirror_mode": {
    "name": "ipython",
    "version": 3
   },
   "file_extension": ".py",
   "mimetype": "text/x-python",
   "name": "python",
   "nbconvert_exporter": "python",
   "pygments_lexer": "ipython3",
   "version": "3.10.4"
  }
 },
 "nbformat": 4,
 "nbformat_minor": 5
}
